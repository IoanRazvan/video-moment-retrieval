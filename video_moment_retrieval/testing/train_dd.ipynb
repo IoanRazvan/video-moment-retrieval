{
 "cells": [
  {
   "cell_type": "code",
   "execution_count": 1,
   "metadata": {},
   "outputs": [
    {
     "name": "stderr",
     "output_type": "stream",
     "text": [
      "/home/ioan/.cache/pypoetry/virtualenvs/video-moment-retrieval-rdzoMJ72-py3.10/lib/python3.10/site-packages/tqdm/auto.py:21: TqdmWarning: IProgress not found. Please update jupyter and ipywidgets. See https://ipywidgets.readthedocs.io/en/stable/user_install.html\n",
      "  from .autonotebook import tqdm as notebook_tqdm\n"
     ]
    }
   ],
   "source": [
    "import os\n",
    "os.environ[\"CUDA_VISIBLE_DEVICES\"] = \"1\"\n",
    "from video_moment_retrieval.utils.logging import init_logging, logger\n",
    "from video_moment_retrieval.datasets.qv_highlights import QVDataset, pad_collate\n",
    "from video_moment_retrieval.testing.double_decoder import DoubleDecoder, DoubleDecoderConfig, DDDataset\n",
    "from video_moment_retrieval.moment_detr.model import VideoDetrConfig, MomentDetr\n",
    "from transformers import TrainingArguments, Trainer, EvalPrediction, PreTrainedTokenizerFast\n",
    "from tokenizers import Tokenizer\n",
    "\n",
    "init_logging()"
   ]
  },
  {
   "cell_type": "code",
   "execution_count": 2,
   "metadata": {},
   "outputs": [
    {
     "name": "stderr",
     "output_type": "stream",
     "text": [
      "/home/ioan/.cache/pypoetry/virtualenvs/video-moment-retrieval-rdzoMJ72-py3.10/lib/python3.10/site-packages/torch/nn/functional.py:5137: UserWarning: Support for mismatched key_padding_mask and attn_mask is deprecated. Use same type for both instead.\n",
      "  warnings.warn(\n",
      "Could not estimate the number of tokens of the input, floating-point operations will not be computed\n"
     ]
    },
    {
     "data": {
      "text/html": [
       "\n",
       "    <div>\n",
       "      \n",
       "      <progress value='5001' max='45200' style='width:300px; height:20px; vertical-align: middle;'></progress>\n",
       "      [ 5001/45200 2:05:11 < 16:46:45, 0.67 it/s, Epoch 22.12/200]\n",
       "    </div>\n",
       "    <table border=\"1\" class=\"dataframe\">\n",
       "  <thead>\n",
       " <tr style=\"text-align: left;\">\n",
       "      <th>Step</th>\n",
       "      <th>Training Loss</th>\n",
       "      <th>Validation Loss</th>\n",
       "    </tr>\n",
       "  </thead>\n",
       "  <tbody>\n",
       "    <tr>\n",
       "      <td>1000</td>\n",
       "      <td>1.442300</td>\n",
       "      <td>1.529170</td>\n",
       "    </tr>\n",
       "    <tr>\n",
       "      <td>2000</td>\n",
       "      <td>0.534900</td>\n",
       "      <td>1.916914</td>\n",
       "    </tr>\n",
       "    <tr>\n",
       "      <td>3000</td>\n",
       "      <td>0.237000</td>\n",
       "      <td>2.196502</td>\n",
       "    </tr>\n",
       "    <tr>\n",
       "      <td>4000</td>\n",
       "      <td>0.131400</td>\n",
       "      <td>2.628696</td>\n",
       "    </tr>\n",
       "  </tbody>\n",
       "</table><p>\n",
       "    <div>\n",
       "      \n",
       "      <progress value='7' max='194' style='width:300px; height:20px; vertical-align: middle;'></progress>\n",
       "      [  7/194 00:04 < 02:31, 1.23 it/s]\n",
       "    </div>\n",
       "    "
      ],
      "text/plain": [
       "<IPython.core.display.HTML object>"
      ]
     },
     "metadata": {},
     "output_type": "display_data"
    },
    {
     "name": "stderr",
     "output_type": "stream",
     "text": [
      "/home/ioan/.cache/pypoetry/virtualenvs/video-moment-retrieval-rdzoMJ72-py3.10/lib/python3.10/site-packages/torch/nn/functional.py:5137: UserWarning: Support for mismatched key_padding_mask and attn_mask is deprecated. Use same type for both instead.\n",
      "  warnings.warn(\n",
      "/home/ioan/.cache/pypoetry/virtualenvs/video-moment-retrieval-rdzoMJ72-py3.10/lib/python3.10/site-packages/torch/nn/functional.py:5137: UserWarning: Support for mismatched key_padding_mask and attn_mask is deprecated. Use same type for both instead.\n",
      "  warnings.warn(\n",
      "/home/ioan/.cache/pypoetry/virtualenvs/video-moment-retrieval-rdzoMJ72-py3.10/lib/python3.10/site-packages/torch/nn/functional.py:5137: UserWarning: Support for mismatched key_padding_mask and attn_mask is deprecated. Use same type for both instead.\n",
      "  warnings.warn(\n",
      "/home/ioan/.cache/pypoetry/virtualenvs/video-moment-retrieval-rdzoMJ72-py3.10/lib/python3.10/site-packages/torch/nn/functional.py:5137: UserWarning: Support for mismatched key_padding_mask and attn_mask is deprecated. Use same type for both instead.\n",
      "  warnings.warn(\n"
     ]
    },
    {
     "ename": "",
     "evalue": "",
     "output_type": "error",
     "traceback": [
      "\u001b[1;31mThe Kernel crashed while executing code in the current cell or a previous cell. \n",
      "\u001b[1;31mPlease review the code in the cell(s) to identify a possible cause of the failure. \n",
      "\u001b[1;31mClick <a href='https://aka.ms/vscodeJupyterKernelCrash'>here</a> for more info. \n",
      "\u001b[1;31mView Jupyter <a href='command:jupyter.viewOutput'>log</a> for further details."
     ]
    }
   ],
   "source": [
    "tokenizer = PreTrainedTokenizerFast(\n",
    "    tokenizer_object=Tokenizer.from_file(\"video_moment_retrieval/testing/tokenizer.json\"),\n",
    "    pad_token=\"[PAD]\",\n",
    "    unk_token=\"[UNK]\"\n",
    ")\n",
    "train_dataset = DDDataset(\"qvhighlights_features/highlight_train_release.jsonl\", \"qvhighlights_features/bert_features\", \"qvhighlights_features/resnet_features\", target_tokenizer=tokenizer)\n",
    "eval_dataset = DDDataset(\"qvhighlights_features/highlight_val_release.jsonl\", \"qvhighlights_features/bert_features\", \"qvhighlights_features/resnet_features\", target_tokenizer=tokenizer)\n",
    "\n",
    "config = DoubleDecoderConfig(\n",
    "    len(tokenizer.vocab),\n",
    "    tokenizer.pad_token_id,\n",
    ")\n",
    "# logger.info(\"Running model using config %s\", config)\n",
    "\n",
    "model = DoubleDecoder(config)\n",
    "\n",
    "train_args = TrainingArguments(\n",
    "    \"./train_output/double_decoder\",\n",
    "    per_device_train_batch_size=32,\n",
    "    gradient_accumulation_steps=1,\n",
    "    learning_rate=1e-4,\n",
    "    lr_scheduler_type=\"constant_with_warmup\",\n",
    "    warmup_steps=500,\n",
    "    num_train_epochs=200,\n",
    "    save_steps=1000,\n",
    "    eval_strategy=\"steps\",\n",
    "    eval_steps=1000,\n",
    "    load_best_model_at_end=True,\n",
    "    greater_is_better=False,\n",
    "    max_grad_norm=0.1,\n",
    "    label_names=[\"labels\"],\n",
    "    weight_decay=1e-4,\n",
    "    eval_do_concat_batches=False,\n",
    "    dataloader_num_workers=4,\n",
    "    # metric_for_best_model=\"mAP\"\n",
    "    # use_cpu=True\n",
    ")\n",
    "\n",
    "trainer = Trainer(\n",
    "    model=model,\n",
    "    args=train_args,\n",
    "    data_collator=train_dataset.collate,\n",
    "    train_dataset=train_dataset,\n",
    "    eval_dataset=eval_dataset,\n",
    "    # compute_metrics=compute_metrics\n",
    ")\n",
    "\n",
    "trainer.train()"
   ]
  }
 ],
 "metadata": {
  "kernelspec": {
   "display_name": "video-moment-retrieval-rdzoMJ72-py3.10",
   "language": "python",
   "name": "python3"
  },
  "language_info": {
   "codemirror_mode": {
    "name": "ipython",
    "version": 3
   },
   "file_extension": ".py",
   "mimetype": "text/x-python",
   "name": "python",
   "nbconvert_exporter": "python",
   "pygments_lexer": "ipython3",
   "version": "3.10.13"
  }
 },
 "nbformat": 4,
 "nbformat_minor": 2
}
